{
 "cells": [
  {
   "cell_type": "code",
   "execution_count": 10,
   "metadata": {},
   "outputs": [],
   "source": [
    "import json\n",
    "\n",
    "\n",
    "def jsonload(fname, encoding=\"utf-8\"):\n",
    "    with open(fname, encoding=encoding) as f:\n",
    "        j = json.load(f)\n",
    "\n",
    "    return j\n",
    "\n",
    "# jsonl 파일 읽어서 list에 저장\n",
    "def jsonlload(fname, encoding=\"utf-8\"):\n",
    "    json_list = []\n",
    "    with open(fname, encoding=encoding) as f:\n",
    "        for line in f.readlines():\n",
    "            json_list.append(json.loads(line))\n",
    "    return json_list\n",
    "\n",
    "def jsonldump(j_list, fname):\n",
    "    f = open(fname, \"w\", encoding='utf-8')\n",
    "    for json_data in j_list:\n",
    "        f.write(json.dumps(json_data, ensure_ascii=False)+'\\n')\n",
    "\n",
    "\n",
    "\n",
    "data = './ensemble_1.jsonl'\n",
    "data2 = './hooah7.json'\n",
    "\n",
    "data = jsonlload(data)\n",
    "data2 = jsonload(data2)\n",
    "\n",
    "\n",
    "cmp = []\n",
    "a = []\n",
    "for i,j in zip(data,data2):\n",
    "    same = True\n",
    "    if len(i['annotation']) == len(j['annotation']):\n",
    "        for index_anno in range(len(i['annotation'])):\n",
    "            if i['annotation'][index_anno] != j['annotation'][index_anno]:\n",
    "                same = False\n",
    "        if not same:\n",
    "            cmp.append(i)\n",
    "            cmp.append(j)\n",
    "    else:\n",
    "        cmp.append(i)\n",
    "        cmp.append(j)\n",
    "        \n",
    "            \n",
    "        \n",
    "jsonldump(cmp,\"compare.jsonl\")\n",
    "# json list를 jsonl 형태로 저장\n",
    "\n",
    "\n"
   ]
  },
  {
   "cell_type": "code",
   "execution_count": null,
   "metadata": {},
   "outputs": [],
   "source": []
  },
  {
   "cell_type": "code",
   "execution_count": null,
   "metadata": {},
   "outputs": [],
   "source": [
    "\n",
    "        "
   ]
  }
 ],
 "metadata": {
  "kernelspec": {
   "display_name": "Python 3.9.0 ('team2': conda)",
   "language": "python",
   "name": "python3"
  },
  "language_info": {
   "codemirror_mode": {
    "name": "ipython",
    "version": 3
   },
   "file_extension": ".py",
   "mimetype": "text/x-python",
   "name": "python",
   "nbconvert_exporter": "python",
   "pygments_lexer": "ipython3",
   "version": "3.9.0"
  },
  "orig_nbformat": 4,
  "vscode": {
   "interpreter": {
    "hash": "ce620ec9ae1d76f413bd45556dc2f2c204187882415cd1c39b95cb3b8c208005"
   }
  }
 },
 "nbformat": 4,
 "nbformat_minor": 2
}
